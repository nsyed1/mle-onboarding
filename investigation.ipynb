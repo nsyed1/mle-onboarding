{
 "cells": [
  {
   "cell_type": "code",
   "execution_count": 1,
   "id": "c7cad1ef",
   "metadata": {},
   "outputs": [
    {
     "data": {
      "text/plain": [
       "'/Users/noor/code/mle-fourthbrain/code/mle-onboarding'"
      ]
     },
     "execution_count": 1,
     "metadata": {},
     "output_type": "execute_result"
    }
   ],
   "source": [
    "pwd"
   ]
  },
  {
   "cell_type": "code",
   "execution_count": 2,
   "id": "b7af7b71",
   "metadata": {},
   "outputs": [
    {
     "name": "stdout",
     "output_type": "stream",
     "text": [
      "total 848\n",
      "drwxr-xr-x   7 noor  staff   224B 11 Aug 16:06 .\n",
      "drwxr-xr-x   3 noor  staff    96B  7 Aug 19:12 ..\n",
      "drwxr-xr-x  16 noor  staff   512B 11 Aug 16:00 .git\n",
      "drwxr-xr-x   3 noor  staff    96B 11 Aug 16:05 .ipynb_checkpoints\n",
      "-rw-r--r--   1 noor  staff   416K 11 Aug 16:00 crimescene\n",
      "-rw-r--r--   1 noor  staff   953B 11 Aug 16:06 investigation.ipynb\n",
      "drwxr-xr-x   4 noor  staff   128B 11 Aug 16:00 software-dev-for-ml-101\n"
     ]
    }
   ],
   "source": [
    "%%bash\n",
    "ls -lah"
   ]
  },
  {
   "cell_type": "code",
   "execution_count": 5,
   "id": "ab0a7f8b",
   "metadata": {},
   "outputs": [
    {
     "name": "stdout",
     "output_type": "stream",
     "text": [
      "   13565 crimescene\r\n"
     ]
    }
   ],
   "source": [
    "!wc -l crimescene"
   ]
  },
  {
   "cell_type": "code",
   "execution_count": 7,
   "id": "776f7ba0",
   "metadata": {},
   "outputs": [
    {
     "name": "stdout",
     "output_type": "stream",
     "text": [
      "*******\r\n",
      "Crime Scene Report #262227712435\r\n",
      "********\r\n",
      "\r\n",
      "'Nor I,' said the March Hare.\r\n",
      "\r\n",
      "Alice sighed wearily. 'I think you might do something better with the\r\n",
      "time,' she said, 'than waste it in asking riddles that have no answers.'\r\n",
      "\r\n",
      "'If you knew Time as well as I do,' said the Hatter, 'you wouldn't talk\r\n"
     ]
    }
   ],
   "source": [
    "!head crimescene"
   ]
  },
  {
   "cell_type": "code",
   "execution_count": 16,
   "id": "77f2a018",
   "metadata": {},
   "outputs": [
    {
     "name": "stdout",
     "output_type": "stream",
     "text": [
      "3\r\n"
     ]
    }
   ],
   "source": [
    "# how many clues are there?\n",
    "!grep CLUE -c crimescene"
   ]
  },
  {
   "cell_type": "code",
   "execution_count": 21,
   "id": "b9a42422",
   "metadata": {},
   "outputs": [],
   "source": [
    "# what are the clues?\n",
    "!grep CLUE -B 3 -A 2 --color crimescene > clues.txt"
   ]
  },
  {
   "cell_type": "code",
   "execution_count": 23,
   "id": "ab6e6834",
   "metadata": {},
   "outputs": [
    {
     "name": "stdout",
     "output_type": "stream",
     "text": [
      "total 864\r\n",
      "drwxr-xr-x   8 noor  staff   256B 11 Aug 16:16 \u001b[34m.\u001b[m\u001b[m/\r\n",
      "drwxr-xr-x   3 noor  staff    96B  7 Aug 19:12 \u001b[34m..\u001b[m\u001b[m/\r\n",
      "drwxr-xr-x  16 noor  staff   512B 11 Aug 16:00 \u001b[34m.git\u001b[m\u001b[m/\r\n",
      "drwxr-xr-x   3 noor  staff    96B 11 Aug 16:05 \u001b[34m.ipynb_checkpoints\u001b[m\u001b[m/\r\n",
      "-rw-r--r--   1 noor  staff   731B 11 Aug 16:16 clues.txt\r\n",
      "-rw-r--r--   1 noor  staff   416K 11 Aug 16:00 crimescene\r\n",
      "-rw-r--r--   1 noor  staff   4.4K 11 Aug 16:15 investigation.ipynb\r\n",
      "drwxr-xr-x   4 noor  staff   128B 11 Aug 16:00 \u001b[34msoftware-dev-for-ml-101\u001b[m\u001b[m/\r\n"
     ]
    }
   ],
   "source": [
    "ls -lah"
   ]
  },
  {
   "cell_type": "code",
   "execution_count": 24,
   "id": "b289d9c1",
   "metadata": {},
   "outputs": [
    {
     "name": "stdout",
     "output_type": "stream",
     "text": [
      "*******\r\n",
      "Crime Scene Report #912464709392\r\n",
      "********\r\n",
      "CLUE: Footage from an ATM security camera is blurry but shows that the perpetrator is a tall male, at least 6'.\r\n",
      "\r\n",
      "\r\n",
      "--\r\n",
      "--\r\n",
      "*******\r\n",
      "Crime Scene Report #028615332953\r\n",
      "********\r\n",
      "CLUE: Found a wallet believed to belong to the killer: no ID, just loose change, and membership cards for AAA, Delta SkyMiles, the local library, and the Museum of Bash History. The cards are totally untraceable and have no name, for some reason.\r\n",
      "\r\n",
      "\r\n",
      "--\r\n",
      "--\r\n",
      "*******\r\n",
      "Crime Scene Report #575776622208\r\n",
      "********\r\n",
      "CLUE: Questioned the barista at the local coffee shop. He said a woman left right before they heard the shots. The name on her latte was Annabel, she had blond spiky hair and a New Zealand accent.\r\n",
      "\r\n",
      "*******\r\n"
     ]
    }
   ],
   "source": [
    "cat clues.txt"
   ]
  }
 ],
 "metadata": {
  "kernelspec": {
   "display_name": "Python 3 (ipykernel)",
   "language": "python",
   "name": "python3"
  },
  "language_info": {
   "codemirror_mode": {
    "name": "ipython",
    "version": 3
   },
   "file_extension": ".py",
   "mimetype": "text/x-python",
   "name": "python",
   "nbconvert_exporter": "python",
   "pygments_lexer": "ipython3",
   "version": "3.8.13"
  }
 },
 "nbformat": 4,
 "nbformat_minor": 5
}
